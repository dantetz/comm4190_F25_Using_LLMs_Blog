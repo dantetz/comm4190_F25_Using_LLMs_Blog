{
 "cells": [
  {
   "cell_type": "raw",
   "id": "a14bc671-0c3a-4266-9dfd-edb3ab02ee3b",
   "metadata": {},
   "source": [
    "---\n",
    "title: \"Selecting Classes\"\n",
    "description: \"Asking Perplexity for Penn Classes Reccomendationns\" \n",
    "author: \"Dante\"\n",
    "date: \"9/27/2025\"\n",
    "categories:\n",
    "  - LLMs\n",
    "  - Learning\n",
    "---"
   ]
  },
  {
   "cell_type": "markdown",
   "id": "3625fbc8-4f70-4166-9969-5e18745ae7cf",
   "metadata": {},
   "source": [
    "## Prompt\n",
    "\n",
    "<span style=\"color:Blue\">I am a junior at the Univeristy of Pennsylvania majoring in political science and completing a minor in legal studies & history. What classes do you reccomedn that I take and why do you reccomend that I take them.</span> "
   ]
  },
  {
   "cell_type": "markdown",
   "id": "c059fb12-fced-403f-a67b-556404eb58fe",
   "metadata": {},
   "source": [
    "Outstanding classes for a junior at the University of Pennsylvania majoring in political science and minoring in legal studies & history include foundational, thought-provoking, and career-relevant courses from both disciplines. Several specific courses are recommended for a strong academic and practical foundation, as well as electives that allow deep exploration of interests, career aspirations, or graduate school preparation.[1][2][3][4]\n",
    "\n",
    "### Core Political Science Courses\n",
    "- PSCI 1601: Political Ideas: Left, Right, and Center — This class helps students grasp ideological currents shaping American and Western political thought since WWII and is crucial for understanding today's political debates.[2]\n",
    "- PSCI 1602: Political Action and Dissent — Focuses on political theory and activism, engaging students with concepts of civil disobedience, just authority, and the philosophy behind political movements — an essential perspective for law and policy.[2]\n",
    "- PSCI Comparative Politics & International Relations electives — These broaden understanding of different political systems and global affairs, which is valuable for both political science and legal studies.[2]\n",
    "\n",
    "### Legal Studies & History Minor Requirements\n",
    "- LGST 1010: Law and Social Values — Provides essential training in legal reasoning and the history of law as a social institution, including contract law fundamentals.[4][1]\n",
    "- HIST 1119: History of American Law to 1877 — Examines U.S. legal foundations, constitutional creation, law and social change, and civil rights, offering historical depth to contemporary issues.[3][1]\n",
    "- HIST 1169: History of American Law since 1877 — Delves into legal developments post-Reconstruction, linking historical legal decisions to today’s policies and institutions.[1]\n",
    "- Foundations of Law (such as HIST 1201) — Provides philosophical perspectives on law, including justice, fairness, and the origins of legal systems.[3]\n",
    "\n",
    "### Recommended Political Science Electives\n",
    "- Public Opinion and American Democracy (e.g., PSCI 230) — Valuable for students interested in the intersection of public attitudes, government, and democratic institutions.[5]\n",
    "- Human Rights/Comparative Politics — Widens focus, crossing legal, historical, and political issues globally.[6][2]\n",
    "- Judicial Politics or American Constitutionalism — Bridges political science and legal studies, focusing on courts, judicial behavior, and constitutional frameworks.[7]\n",
    "\n",
    "### Recommended Legal Studies & History Electives\n",
    "- American Political Thought — Explores how political theory has shaped American governance and law.[3]\n",
    "- Law and Economics — Merges legal studies with foundations in economic theory, vital for careers in government, business, or law.[3]\n",
    "- Courses such as Free Speech and Censorship, Bodies, Race and Rights, or U.S. Politics and Society since the 1960s — These connect legal, social, and historical debates that are crucial for well-rounded policy analysis, advocacy, or graduate work.[3]\n",
    "\n",
    "### Why These Courses Matter\n",
    "- They provide robust training in research, writing, analysis, and debate, all essential for advanced study, law school, or policy work.[1][2]\n",
    "- They expose students to diverse perspectives on American and international political thought, history, and law.[1][2][3]\n",
    "- Many are taught by leading faculty and have reputations for rigorous instruction and engaging discussions, making them both challenging and rewarding.[4]\n",
    "\n",
    "Taking this blend of foundational, theoretical, and specialized courses will create a well-rounded record, offering strong preparation for law school, graduate programs, government, advocacy, or policy-oriented careers.[4][2][1][3]\n",
    "\n",
    "[1](https://lgst.wharton.upenn.edu/minor-in-legal-studies-and-history/)\n",
    "[2](https://catalog.upenn.edu/courses/psci/)\n",
    "[3](https://catalog.upenn.edu/undergraduate/programs/legal-studies-history-minor/)\n",
    "[4](https://www.reddit.com/r/UPenn/comments/kielgu/lgst_101/)\n",
    "[5](https://www.reddit.com/r/UPenn/comments/jscwnu/easybest_psci_courses/)\n",
    "[6](https://www.reddit.com/r/UPenn/comments/1cepcxa/which_is_easier_ppe_or_the_political_science_major/)\n",
    "[7](https://www.ycp.edu/academics/programs/political-science)\n",
    "[8](https://www.temple.edu/academics/degree-programs/political-science-major-la-pols-ba)\n",
    "[9](https://bulletins.psu.edu/undergraduate/colleges/liberal-arts/political-science-ba/)\n",
    "[10](https://catalog.iup.edu/preview_program.php?catoid=6&poid=2239)\n",
    "[11](https://admissionsight.com/best-classes-at-upenn/)\n",
    "[12](https://www.kutztown.edu/academics/colleges-and-departments/liberal-arts-and-sciences/departments/philosophy-and-government/bachelor-of-arts-in-political-science.html)\n",
    "[13](https://catalog.upenn.edu/undergraduate/programs/legal-studies-history-minor/legal-studies-history-minor.pdf)\n",
    "[14](https://www.usnews.com/best-graduate-schools/top-humanities-schools/university-of-pennsylvania-215062)\n",
    "[15](https://catalog.drexel.edu/undergraduate/collegeofartsandsciences/politicalscience/)\n",
    "[16](https://lgst.wharton.upenn.edu/wp-content/uploads/2015/04/Minor-in-Legal-Studies-and-History-1.pdf)\n",
    "[17](https://lgst.wharton.upenn.edu/minor-in-legal-studies-and-history-faq/)\n",
    "[18](https://lgst.wharton.upenn.edu/programs/undergraduate/)\n",
    "[19](https://bulletins.psu.edu/undergraduate/colleges/liberal-arts/legal-studies-minor/)"
   ]
  },
  {
   "cell_type": "markdown",
   "id": "ad85de54-6b7f-45a7-a593-3dcfa76c1927",
   "metadata": {},
   "source": [
    "## Initial Reflection\n",
    "\n",
    "<span style=\"color:green\">I purposefully started off with a very general prompt to see which direction Perplexity would take the response in. I expected it to pull the course requirements from Penn's wesbite but it was interesting to see that it pulled the required courses for my minor, but not for my major. It was also interesting that Perplexity provided commentary on why I should be taking these courses on how they will help.</span> "
   ]
  },
  {
   "cell_type": "markdown",
   "id": "67ff5c1f-f56f-4e7e-b8e8-070a0e4e3985",
   "metadata": {},
   "source": [
    "## Second Prompt\n",
    "\n",
    "<span style=\"color:Blue\">Please provide me information regarding the difficulty and the course quality ratings of the courses you provided me with in the previous response.</span> "
   ]
  },
  {
   "cell_type": "markdown",
   "id": "2790f575-e044-412c-96b3-195536fbbf2e",
   "metadata": {},
   "source": [
    "Many of the courses previously recommended at the University of Pennsylvania are regarded as high quality, though some require substantial reading and a strong analytical approach. Here is an overview of student-reported difficulty and course quality ratings for the main courses mentioned:\n",
    "\n",
    "### PSCI 1601: Political Ideas: Left, Right, and Center\n",
    "- Difficulty: Generally viewed as moderately challenging, depending on the professor and student’s background in political philosophy. Similar courses in the department are noted for fair grading but substantial reading and writing requirements.[1][2]\n",
    "- Course Quality: Students praise these courses’ relevance and engaging teaching, although not always the easiest electives. Classes like PSCI 230 (“Public Opinion and American Democracy”), taught by Michelle Margolis, are specifically highlighted as “very informative, super interesting” with fair grading and significant workload.[2]\n",
    "\n",
    "### LGST 1010: Law and Social Values\n",
    "- Difficulty: The course is described as rigorous, especially in sections taught by professors who model exams after law school hypotheticals, requiring careful reading and novel application of course concepts. Still, it is foundational for those interested in law and considered manageable with strong analytical and writing skills.[3][4]\n",
    "- Course Quality: LGST 1010 is seen as well-structured, with a reputation for teaching students to “think like a lawyer” even at the undergraduate level. Course reviews highlight its engaging approach to legal theory and excellent preparation for more advanced legal coursework.[5][4]\n",
    "\n",
    "### HIST 1119: History of American Law to 1877\n",
    "- Difficulty: This seminar-style class is frequently reported as enjoyable and rewarding, with a workload that includes assigned readings, participation, and essay-based assessments. Students find it possible to earn strong grades with consistent work.[6][7][8]\n",
    "- Course Quality: HIST 1119 receives enthusiastic feedback, with students describing the professor as engaging and the material as “thoroughly enjoyable.” It blends legal and historical analysis in ways that appeal to those interested in both fields.[9][6]\n",
    "\n",
    "### Summary Table\n",
    "\n",
    "| Course Code   | Difficulty Level                  | Course Quality                                               |\n",
    "|---------------|----------------------------------|-------------------------------------------------------------|\n",
    "| PSCI 1601     | Moderate (reading/writing heavy) | Relevant, engaging theory, fair grading, strong reputation[2][1]  |\n",
    "| LGST 1010     | Moderate to High (analytical)    | Strong intro to law/legal theory, teaches legal thinking[3][4]   |\n",
    "| HIST 1119     | Moderate (participation/essays)  | Enjoyable, engaging professor, appealing material[6][7][9]   |\n",
    "\n",
    "All three courses provide solid preparation for law school or advanced study by fostering analytical, research, and critical writing skills. Each requires consistent effort but is widely praised for quality instruction and engaging content.[2][3][6]\n",
    "\n",
    "[1](https://catalog.upenn.edu/courses/psci/)\n",
    "[2](https://www.reddit.com/r/UPenn/comments/jscwnu/easybest_psci_courses/)\n",
    "[3](https://www.reddit.com/r/UPenn/comments/gpd9gv/lgst_101_laufer/)\n",
    "[4](https://www.coursicle.com/penn/courses/LGST/1010/)\n",
    "[5](https://undergrad-inside.wharton.upenn.edu/lgst/)\n",
    "[6](https://www.reddit.com/r/UPenn/comments/110bjjx/best_englishhistory_classes_at_penn/)\n",
    "[7](https://coursesintouch.apps.upenn.edu/cpr/jsp/fast.do?webService=syll&t=202310&c=AFRC1119401)\n",
    "[8](https://coursesintouch.apps.upenn.edu/cpr/jsp/fast.do?webService=syll&t=202330&c=HIST1119401)\n",
    "[9](https://catalog.upenn.edu/courses/hist/)\n",
    "[10](https://penncoursereview.com)\n",
    "[11](https://catalog.upenn.edu/courses/clst/)\n",
    "[12](https://advising.cis.upenn.edu/first-semester/)\n",
    "[13](https://catalog.upenn.edu/courses/lgst/)\n",
    "[14](https://www.studocu.com/en-us/course/university-of-pennsylvania/history-of-american-law-to-1877/2537181)\n",
    "[15](https://catalog.upenn.edu/attributes/apst/apst.pdf)\n",
    "[16](https://lgst.wharton.upenn.edu/programs/undergraduate/course-descriptions/)\n",
    "[17](https://www.linkedin.com/in/jacqueline-tunney)\n",
    "[18](https://coursesintouch.apps.upenn.edu/cpr/jsp/fast.do?webService=syll&t=202430&c=HIST1119401)\n",
    "[19](https://lgst.wharton.upenn.edu/programs/undergraduate/)\n",
    "[20](https://www.studocu.com/en-us/course/university-of-pennsylvania/law-and-social-values/2537990)"
   ]
  },
  {
   "cell_type": "markdown",
   "id": "706a110d-4f23-4cd5-a0e6-757e6bc26d5a",
   "metadata": {},
   "source": [
    "## Follow-Up Reflection\n",
    "\n",
    "<span style=\"color:green\">I asked it about the course difficulty of Penn classes to see if it would be able to pull from, or at least try to, Penn Course Review which is a Penn specific website. It largely pulled its difficulty ratings from Reddit or other public forums which made the most sense to me and was expected. I would have, however, expected it to maybe note that it was not able to access potentially more accurate or specific sources because of its private nature of the wesbite to penn students.</span> "
   ]
  }
 ],
 "metadata": {
  "kernelspec": {
   "display_name": "Python 3-12 (COMM4190)",
   "language": "python",
   "name": "python3-12_comm4190"
  },
  "language_info": {
   "codemirror_mode": {
    "name": "ipython",
    "version": 3
   },
   "file_extension": ".py",
   "mimetype": "text/x-python",
   "name": "python",
   "nbconvert_exporter": "python",
   "pygments_lexer": "ipython3",
   "version": "3.12.11"
  }
 },
 "nbformat": 4,
 "nbformat_minor": 5
}
