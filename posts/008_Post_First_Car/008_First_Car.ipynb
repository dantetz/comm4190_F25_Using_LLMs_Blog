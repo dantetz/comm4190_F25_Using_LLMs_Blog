{
 "cells": [
  {
   "cell_type": "raw",
   "id": "6cc15cbc-faad-4108-a798-7dbca320c58b",
   "metadata": {},
   "source": [
    "---\n",
    "title: \"First Car Reccomendation\"\n",
    "description: \"Asking Perplexity for First Car Reccomendations\" \n",
    "author: \"Dante\"\n",
    "date: \"9/27/2025\"\n",
    "categories:\n",
    "  - LLMs\n",
    "  - Learning\n",
    "---"
   ]
  },
  {
   "cell_type": "markdown",
   "id": "2371d202-2285-4330-950f-a4f6656a7965",
   "metadata": {},
   "source": [
    "## Prompt\n",
    "\n",
    "<span style=\"color:Blue\">What reccomendations would you have for first cars for a high school kid who just got their license.</span> "
   ]
  },
  {
   "cell_type": "markdown",
   "id": "87b58a2a-68a3-463b-8125-e99b15b4020d",
   "metadata": {},
   "source": [
    "For a high school kid who just got their license, the best first car recommendations focus on safety, reliability, affordability, and ease of driving. Here are some solid options:\n",
    "\n",
    "### Safety First\n",
    "- Look for cars with good crash-test ratings and modern safety features like airbags, anti-lock brakes, and stability control.\n",
    "- Avoid high-performance or overly large vehicles that might be harder for new drivers to handle.\n",
    "\n",
    "### Reliability & Low Maintenance\n",
    "- Choose brands known for lasting a long time without expensive repairs—Toyota, Honda, Hyundai, and Mazda are often top picks.\n",
    "- Older used cars from these brands can be very cost-effective while still reliable.\n",
    "\n",
    "### Affordability\n",
    "- A used car in good condition around $5,000-$10,000 is often a smart choice for teens.\n",
    "- Economical vehicles that don’t guzzle gas are great for keeping ongoing costs low.\n",
    "\n",
    "### Easy to Drive & Park\n",
    "- Smaller cars or compact SUVs that are easy to maneuver and park help new drivers build confidence.\n",
    "\n",
    "### Specific Models to Consider\n",
    "- Toyota Corolla or Camry (used, reliable, good safety)\n",
    "- Honda Civic or Accord (dependable, affordable maintenance)\n",
    "- Mazda3 or Mazda CX-3 (fun to drive and reliable)\n",
    "- Hyundai Elantra or Sonata (great warranties and value)\n",
    "- Subaru Impreza (all-wheel drive for better handling)\n",
    "\n",
    "### Additional Tips\n",
    "- Avoid flashy or expensive cars to reduce insurance costs.\n",
    "- Keep the car in good shape and maintain regular service to avoid breakdowns.\n",
    "- Consider safety accessories like backup cameras or parking sensors if possible.\n",
    "\n",
    "Overall, the goal is a car that’s safe, reliable, not too expensive, and easy to drive for a new teen driver. This helps build good driving habits without extra stress or cost."
   ]
  },
  {
   "cell_type": "markdown",
   "id": "5f7ad103-7bae-465e-a033-ca5ac4e44c81",
   "metadata": {},
   "source": [
    "## Initial Reflection\n",
    "\n",
    "<span style=\"color:green\">It was interesting to see that Perplexity had given me criteria to consider without me asking for the criteria itself. I appreciated this and I liked the fact that on top of that, it provided us with specific models as well. Next, I would like to it to provide me with specific models sorted based on the criteria that it had provided before. </span> "
   ]
  },
  {
   "cell_type": "markdown",
   "id": "cf246e6d-80ec-4c74-a789-591e73402230",
   "metadata": {},
   "source": [
    "## Second Prompt\n",
    "\n",
    "<span style=\"color:Blue\">Please provide me with a sorted list of the specific car models based on the different criteria that you provided.</span> "
   ]
  },
  {
   "cell_type": "markdown",
   "id": "b79d44aa-f353-4ed8-9887-0873e51f31ae",
   "metadata": {},
   "source": [
    "Here’s a plain list of first car recommendations for a high school kid who just got their license, sorted by the criteria mentioned:\n",
    "\n",
    "**Safety:**\n",
    "- Subaru Impreza (great all-wheel drive and top safety ratings)\n",
    "- Toyota Camry (strong crash-test performance)\n",
    "- Honda Accord (modern safety features)\n",
    "- Hyundai Sonata (good latest safety tech)\n",
    "- Toyota Corolla (reliable safety ratings)\n",
    "\n",
    "**Reliability:**\n",
    "- Toyota Corolla (known for lasting a long time)\n",
    "- Honda Civic (dependable and durable)\n",
    "- Toyota Camry (very reliable midsize sedan)\n",
    "- Mazda3 (reliable and low maintenance)\n",
    "- Hyundai Elantra (backed by good warranties)\n",
    "\n",
    "**Affordability:**\n",
    "- Hyundai Elantra (usually affordable used prices)\n",
    "- Mazda3 (fairly priced on the used market)\n",
    "- Toyota Corolla (affordable purchase and upkeep)\n",
    "- Honda Civic (a bit higher priced but still cost-effective)\n",
    "- Subaru Impreza (often pricier due to AWD feature)\n",
    "\n",
    "**Ease of Driving and Parking:**\n",
    "- Toyota Corolla (compact and easy to maneuver)\n",
    "- Mazda3 (small size with nimble handling)\n",
    "- Hyundai Elantra (compact with smooth drive)\n",
    "- Honda Civic (compact, some sportier versions)\n",
    "- Toyota Camry (larger but generally manageable)\n",
    "\n",
    "These models are all solid choices for new teen drivers, combining important safety features, ease of handling, and costs that won’t break the bank. Subaru Impreza stands out for safety and traction, Toyota Corolla for overall reliability and ease, while Hyundai and Mazda offer great budget-friendly options.\n",
    "\n",
    "[1](https://www.prnewswire.com/news-releases/us-news-announces-the-2025-best-cars-for-teens-302466262.html)\n",
    "[2](https://www.caranddriver.com/rankings/best-cars-for-teens)\n",
    "[3](https://www.iihs.org/ratings/safe-vehicles-for-teens)\n",
    "[4](https://www.kbb.com/best-cars/teens/)\n",
    "[5](https://kunesgreenfield.com/blog/best-cars-for-teen-drivers-2025-safety-features-and-vehicle-selection-for-new-drivers)\n",
    "[6](https://www.lemonade.com/car/explained/20-best-cars-for-teens-in-2025/)\n",
    "[7](https://www.youtube.com/watch?v=xbjsmyfNWhQ)\n",
    "[8](https://www.iihs.org/news/detail/this-years-teen-vehicle-list-offers-safety-for-every-budget)\n",
    "[9](https://cars.usnews.com/cars-trucks/advice/best-cars-for-young-drivers)"
   ]
  },
  {
   "cell_type": "markdown",
   "id": "fec55fe6-d6de-4a3c-bde8-620b01988628",
   "metadata": {},
   "source": [
    "## Follow Up\n",
    "\n",
    "<span style=\"color:Blue\">Please include the specific prices under the affordability section and the safety or other applicable ratings for the safety and reliability sections.</span> "
   ]
  },
  {
   "cell_type": "markdown",
   "id": "6fb85ae2-ff00-4a39-81d2-c6330b228415",
   "metadata": {},
   "source": [
    "Here is the updated list of first car recommendations for a high school teen including specific prices and safety/reliability ratings:\n",
    "\n",
    "**Safety:**\n",
    "- **Subaru Impreza:** 2025 model prices average around $25,000 used. Earns strong safety accolades with IIHS Top Safety Pick awards for Subaru models, especially for all-wheel drive and crashworthiness.\n",
    "- **Toyota Camry:** Used 2025 prices near $20,000-$25,000. Consistently receives 5-star NHTSA ratings and “Good” in IIHS crash tests with Toyota Safety Sense technology.\n",
    "- **Honda Accord:** 2025 Honda Civic (similar to Accord) prices typically $22,000-$27,000 used. The Civic Hatchback has IIHS Top Safety Pick+ rating, Civic Sedan a Top Safety Pick.\n",
    "- **Hyundai Sonata:** New models start around $24,000, used pricing varies. Good safety features and 4-5 star NHTSA ratings.\n",
    "- **Toyota Corolla:** Reliable safety with 5-star NHTSA ratings, “Good” in IIHS tests. 2025 used prices average $20,000-$25,000.\n",
    "\n",
    "**Reliability:**\n",
    "- **Toyota Corolla:** Known for durability and long lifespan, top reliability scores from owners and experts.\n",
    "- **Honda Civic:** High marks for reliability and owner satisfaction.\n",
    "- **Toyota Camry:** Very dependable midsize sedan with strong reliability ratings.\n",
    "- **Mazda3:** Above-average reliability with affordable repairs.\n",
    "- **Hyundai Elantra:** Good warranty coverage adds to overall reliability confidence.\n",
    "\n",
    "**Affordability (typical used 2025 price range):**\n",
    "- **Hyundai Elantra:** Starts around $15,000 used.\n",
    "- **Mazda3:** Used prices starting approx. $21,000.\n",
    "- **Toyota Corolla:** Used models typically $20,000-$25,000.\n",
    "- **Honda Civic:** Generally between $22,000 and $27,000.\n",
    "- **Subaru Impreza:** Higher priced at about $25,000 or more due to AWD.\n",
    "\n",
    "**Ease of Driving and Parking:**\n",
    "- Toyota Corolla: Compact size, easy to maneuver and park.\n",
    "- Mazda3: Small, nimble handling makes it easy for new drivers.\n",
    "- Hyundai Elantra: Smooth ride with compact dimensions.\n",
    "- Honda Civic: A bit sportier but still manageable for new drivers.\n",
    "- Toyota Camry: Larger sedan but still generally easy to drive and park.\n",
    "\n",
    "This detailed info should help find a safe, reliable, affordable, and easy-to-drive first car for a new teen driver.[1][2][3][4][5][6][7][8][9][10][11]\n",
    "\n",
    "[1](https://www.edmunds.com/used-2025-toyota-corolla-philadelphia-pa/)\n",
    "[2](https://www.truecar.com/used-cars-for-sale/listings/toyota/corolla/year-2025/location-philadelphia-pa/)\n",
    "[3](https://www.cargurus.com/Cars/l-Used-2025-Honda-Civic-c33542)\n",
    "[4](https://www.cargurus.com/Cars/l-Used-2025-Subaru-Impreza-c33793)\n",
    "[5](https://www.truecar.com/used-cars-for-sale/listings/mazda/mazda3/year-2025/)\n",
    "[6](https://www.truecar.com/used-cars-for-sale/listings/hyundai/elantra/year-2025/)\n",
    "[7](https://www.phillipstoyota.com/toyota-corolla-safety-ratings-leesburg-fl.html)\n",
    "[8](https://www.youtube.com/watch?v=0TRCGyRU7O8)\n",
    "[9](https://media.subaru.com/pressrelease/2294/subaru-earns-three-2025-iihs-top-safety-pick)\n",
    "[10](https://www.carcomplaints.com/Toyota/Corolla/2025/safety/)\n",
    "[11](https://www.caleyarboroughhonda.com/blog/2025-honda-civic-revolutionary-safety-innovations)\n",
    "[12](https://carhelper.com.au/new-car-availability-2025)\n",
    "[13](https://www.carfax.com/Used-2025-Toyota-Corolla_z40006)\n",
    "[14](https://www.cargurus.com/Cars/l-Used-2025-Toyota-Corolla-c33705)\n",
    "[15](https://www.cars.com/shopping/toyota-corolla-2025/philadelphia-pa/)\n",
    "[16](https://www.carfax.com/Used-2025-Honda-Civic_z40034)\n",
    "[17](https://www.carfax.com/Used-2025-Subaru-Impreza_z40356)\n",
    "[18](https://www.kbb.com/mazda/mazda3/)\n",
    "[19](https://www.fredbeans.com/models/hyundai-elantra-doylestown-pa.htm)\n",
    "[20](https://www.subaru.com/about/company-news/2025-subaru-forester-earns-IIHS-top-safety-pick-award.html)"
   ]
  },
  {
   "cell_type": "markdown",
   "id": "41fbc088-4705-4e12-a669-fda018e100e3",
   "metadata": {},
   "source": [
    "## Final Reflection\n",
    "\n",
    "<span style=\"color:green\"> Perplexity did a good job overall with the list, especially once I asked for the details like actual prices and safety ratings. At first, it gave me a solid general overview but didn’t provide the numbers or ratings upfront, which felt like a missing piece. I had to push a bit to get that kind of concrete info, so it wasn’t fully proactive in delivering everything at once. That said, Perplexity was quick and efficient at adapting when I asked for more specifics — diving into real-time data sources, pulling current used car prices, and referencing reputable safety ratings from IIHS and NHTSA, which was impressive. The inclusion of citations made the info transparent and trustworthy, a big plus compared to other AI tools that often just throw out unchecked facts. Perplexity’s main strength is in combining web search and AI reasoning, so it can find accurate, up-to-date information and organize it well. But it doesn’t fully anticipate every detail users might want right away without some nudging. The conversation feel was pretty natural, and Perplexity stayed on topic, which made the process smooth. </span> "
   ]
  },
  {
   "cell_type": "code",
   "execution_count": null,
   "id": "cc91e028-e397-43b7-bb2a-a5aae9c0c21e",
   "metadata": {},
   "outputs": [],
   "source": []
  },
  {
   "cell_type": "code",
   "execution_count": null,
   "id": "56b881d3-d8a4-4c92-99b7-cb61b00ed9de",
   "metadata": {},
   "outputs": [],
   "source": []
  }
 ],
 "metadata": {
  "kernelspec": {
   "display_name": "Python 3-12 (COMM4190)",
   "language": "python",
   "name": "python3-12_comm4190"
  },
  "language_info": {
   "codemirror_mode": {
    "name": "ipython",
    "version": 3
   },
   "file_extension": ".py",
   "mimetype": "text/x-python",
   "name": "python",
   "nbconvert_exporter": "python",
   "pygments_lexer": "ipython3",
   "version": "3.12.11"
  }
 },
 "nbformat": 4,
 "nbformat_minor": 5
}
