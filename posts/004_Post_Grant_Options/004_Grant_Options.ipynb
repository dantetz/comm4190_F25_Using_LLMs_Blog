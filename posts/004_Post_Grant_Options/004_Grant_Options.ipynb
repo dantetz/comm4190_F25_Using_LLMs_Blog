{
 "cells": [
  {
   "cell_type": "raw",
   "id": "3839d343-d5ee-4fd5-a2f9-3a151a1c5cf5",
   "metadata": {},
   "source": [
    "---\n",
    "title: \"Grant Reccomendation\"\n",
    "description: \"Asking Chat-GPT5 for Use of Grant Ideas\" \n",
    "author: \"Dante\"\n",
    "date: \"9/19/2025\"\n",
    "categories:\n",
    "  - LLMs\n",
    "  - Learning\n",
    "---"
   ]
  },
  {
   "cell_type": "markdown",
   "id": "711588c0-060b-4c71-9724-192c5f7b7b99",
   "metadata": {},
   "source": [
    "# Grant Reccomendations\n",
    "*Through my fraternity and literary society at Penn, I have access to an academic safe grant for an acaedemic or community based activity. I have several initial, vague ideas for what I could use this for. I am interested to see if, given these specifications, Chat-GPT 5 is able to come up with specific laid out plans. I will also provide it with the specific requirements for the application guidelines*"
   ]
  },
  {
   "cell_type": "markdown",
   "id": "d13fabfa-ab27-4617-b528-69a27a7909db",
   "metadata": {},
   "source": [
    "## Prompt\n",
    "\n",
    "<span style=\"color:green\">I am part of a literary organization which provides grants for academic or community based trips. Examples of previous grants include trips to the Library of Congress in Washington DC or mueseums in Cairo, Egypt. I am going to be spending a semester in Sydney, Australia and would like ideas for places to go in Australia which could combine natural beauty with academic aspects. Provide me with a few options.</span> \n"
   ]
  },
  {
   "cell_type": "markdown",
   "id": "32df006a-19c2-4fa0-8784-5a00b495f751",
   "metadata": {},
   "source": [
    "## Response\n",
    "\n",
    "That sounds like a wonderful opportunity—you can definitely combine natural beauty with academic or cultural depth in Australia. Here are a few options that could fit the mission of your literary organization:\n",
    "\n",
    "---\n",
    "\n",
    "### 1. **National Library of Australia (Canberra, ACT) + Namadgi National Park**\n",
    "\n",
    "* **Academic Aspect:** The National Library holds the country’s largest collection of books, manuscripts, and historical documents—including materials on Aboriginal languages and literature. It’s the closest Australian equivalent to the Library of Congress.\n",
    "* **Natural Beauty:** Just outside Canberra is **Namadgi National Park**, part of the Australian Alps, where you can explore ancient Aboriginal rock art sites and alpine landscapes.\n",
    "\n",
    "---\n",
    "\n",
    "### 2. **Great Barrier Reef (Queensland) + James Cook University (Townsville or Cairns)**\n",
    "\n",
    "* **Academic Aspect:** James Cook University is world-renowned for marine biology and climate change research. They offer guided educational programs and partnerships for visiting scholars.\n",
    "* **Natural Beauty:** The Great Barrier Reef is the world’s largest coral reef system, combining unmatched biodiversity with opportunities to study ecology, conservation, and environmental policy.\n",
    "\n",
    "---\n",
    "\n",
    "### 3. **Uluru–Kata Tjuta National Park (Northern Territory)**\n",
    "\n",
    "* **Academic Aspect:** Uluru is a living cultural landscape, sacred to the Anangu people. There are opportunities to learn directly from Indigenous guides about Dreamtime stories, oral traditions, and Aboriginal cosmology—linking literature, history, and culture.\n",
    "* **Natural Beauty:** The red monolith of Uluru and the domes of Kata Tjuta offer some of the most iconic landscapes in Australia.\n",
    "\n",
    "---\n",
    "\n",
    "### 4. **Tasmania: MONA (Museum of Old and New Art) + Tasmanian Wilderness World Heritage Area**\n",
    "\n",
    "* **Academic Aspect:** MONA in Hobart is one of the world’s most provocative museums, housing literature, philosophy, and contemporary art exhibitions.\n",
    "* **Natural Beauty:** The nearby Tasmanian Wilderness includes Cradle Mountain and Lake St Clair—areas of stunning alpine scenery and rare ecosystems.\n",
    "\n",
    "---\n",
    "\n",
    "### 5. **Sydney + Blue Mountains (New South Wales)**\n",
    "\n",
    "* **Academic Aspect:** The **State Library of New South Wales** is Australia’s oldest library, with significant collections of colonial manuscripts and rare books.\n",
    "* **Natural Beauty:** Just two hours away, the **Blue Mountains** offer dramatic cliffs, eucalyptus forests, and sites of Aboriginal rock art—making for an easy academic-plus-natural combination.\n",
    "\n",
    "---\n",
    "\n",
    "Would you like me to frame these options **as potential grant proposals** (with justification of how each trip supports academic and literary goals) so you could directly adapt them for your organization’s application?\n"
   ]
  },
  {
   "cell_type": "markdown",
   "id": "771c1baa-8404-4168-8dff-7be8601fff55",
   "metadata": {},
   "source": [
    "## Issues \n",
    "\n",
    "<span style=\"color:red\">I found that ChatGPT misunderstood the prompt I had given it. Instead of providing me with academic locations that also had areas of natural beauty around or near them, it focused on trying to combine the two. To fix this, I attempted to make my description and next prompt significantly more specific to include the fact that I needed it to be an academic or cultural location that has natural beauty near it.</span> \n"
   ]
  },
  {
   "cell_type": "markdown",
   "id": "d05691c5-138b-44a4-92e7-9db52b3adc3c",
   "metadata": {},
   "source": [
    "## Next Response \n",
    "\n",
    "Got it — thanks for clarifying. You want **one destination that is primarily academic or cultural in focus**, and ideally it just *happens* to be in a region where you could also enjoy natural beauty nearby. Here are some strong candidates:\n",
    "\n",
    "---\n",
    "\n",
    "### 1. **State Library of New South Wales (Sydney, NSW)**\n",
    "\n",
    "* **Academic / Cultural:** Australia’s oldest library, with rare manuscripts, historical newspapers, Aboriginal collections, and extensive archives. It’s a hub for research into Australian literature and history.\n",
    "* **Nearby Natural Beauty:** Just minutes away are **Bondi Beach** and **Coogee Beach**, as well as Sydney Harbour’s coastal walks.\n",
    "\n",
    "---\n",
    "\n",
    "### 2. **National Library of Australia (Canberra, ACT)**\n",
    "\n",
    "* **Academic / Cultural:** The country’s premier research library, housing millions of items from Australia’s documentary heritage—perfect if you’re interested in comparative studies with the U.S. Library of Congress model.\n",
    "* **Nearby Natural Beauty:** While inland, Lake Burley Griffin offers scenic walking routes, and the **South Coast beaches** (like Batemans Bay) are just a two-hour drive.\n",
    "\n",
    "---\n",
    "\n",
    "### 3. **University of Sydney Fisher Library & Nicholson Museum (Sydney, NSW)**\n",
    "\n",
    "* **Academic / Cultural:** Fisher Library is one of the most important academic libraries in the Southern Hemisphere. The Nicholson Museum (part of the Chau Chak Wing Museum) contains the largest collection of antiquities in the Southern Hemisphere, including Egyptian and Mediterranean artifacts.\n",
    "* **Nearby Natural Beauty:** Beaches such as **Manly** or **Bronte** are a short train or ferry ride away.\n",
    "\n",
    "---\n",
    "\n",
    "### 4. **National Gallery of Victoria & State Library of Victoria (Melbourne, VIC)**\n",
    "\n",
    "* **Academic / Cultural:** The NGV is Australia’s oldest and most visited art museum, and the State Library of Victoria offers rich archives in literature, history, and cultural studies.\n",
    "* **Nearby Natural Beauty:** Within a short trip you’ll find the **Mornington Peninsula** with its beaches and wineries, or the **Great Ocean Road** with stunning coastal scenery.\n",
    "\n",
    "---\n",
    "\n",
    "### 5. **University of Queensland Fryer Library (Brisbane, QLD)**\n",
    "\n",
    "* **Academic / Cultural:** This library specializes in Australian literature, history, and Indigenous studies, with rare manuscripts and archives.\n",
    "* **Nearby Natural Beauty:** Brisbane is just an hour from the **Gold Coast** and **Sunshine Coast**, both home to some of the country’s best beaches.\n",
    "\n",
    "---\n",
    "\n",
    "If you’d like, I can help you **narrow these down to 2–3 strongest fits for a grant application**, emphasizing how each location offers an academic or cultural experience *plus* accessible natural settings. Would you like me to draft them in that grant-ready format?\n"
   ]
  },
  {
   "cell_type": "markdown",
   "id": "9b447d62-5831-47b9-bc21-76f671e3473d",
   "metadata": {},
   "source": [
    "### Issues and Follow-Up \n",
    "\n",
    "These options were more in line with what I was looking for, but now I wanted to broaden my search to other countries near Australia in Oceana and South east Asia. "
   ]
  },
  {
   "cell_type": "markdown",
   "id": "a6251b33-fa76-4c99-9e0e-8ed6582cc016",
   "metadata": {},
   "source": [
    "Perfect — expanding beyond Australia opens up some really rich academic/cultural destinations in Oceania and Southeast Asia, many of which are close to incredible natural beauty. Here are strong candidates:\n",
    "\n",
    "---\n",
    "\n",
    "### **Oceania**\n",
    "\n",
    "#### 1. **National Library of New Zealand (Wellington, NZ)**\n",
    "\n",
    "* **Academic / Cultural:** Holds the Alexander Turnbull Library collection with rare books, maps, and manuscripts documenting New Zealand’s history, Māori heritage, and Pacific culture.\n",
    "* **Nearby Natural Beauty:** Wellington sits on a harbor ringed by hills, and you’re just a ferry ride from **Matiu/Somes Island** or a short drive from wild beaches like **Lyall Bay**.\n",
    "\n",
    "#### 2. **University of the South Pacific (Suva, Fiji)**\n",
    "\n",
    "* **Academic / Cultural:** A leading regional university serving 12 Pacific nations, with programs in Pacific history, languages, and environmental studies. Offers a unique vantage on island nations’ literature and oral traditions.\n",
    "* **Nearby Natural Beauty:** Fiji is renowned for coral reefs and beaches—Suva itself sits right on the coast, with easy access to island day trips.\n",
    "\n",
    "#### 3. **National Museum and Art Gallery of Papua New Guinea (Port Moresby, PNG)**\n",
    "\n",
    "* **Academic / Cultural:** Houses extensive collections on ethnography, natural history, and traditional art from PNG’s 800+ language groups.\n",
    "* **Nearby Natural Beauty:** PNG is known for rugged coasts and coral reefs—nearby are **Ela Beach** and excursions to rainforest highlands.\n",
    "\n",
    "---\n",
    "\n",
    "### **Southeast Asia**\n",
    "\n",
    "#### 4. **National Library of Singapore (Singapore)**\n",
    "\n",
    "* **Academic / Cultural:** One of the most advanced research libraries in Asia, with strong collections in Southeast Asian studies, Chinese/Malay/Indian literature, and postcolonial history.\n",
    "* **Nearby Natural Beauty:** While urban, Singapore has pristine beaches on **Sentosa Island** and lush reserves like **Pulau Ubin** for mangroves and coastal walks.\n",
    "\n",
    "#### 5. **National Museum of the Philippines (Manila, Philippines)**\n",
    "\n",
    "* **Academic / Cultural:** Includes the Museum of Fine Arts, Anthropology, and Natural History—offering insight into precolonial, colonial, and modern Filipino identity.\n",
    "* **Nearby Natural Beauty:** Manila Bay itself is scenic, and within a few hours you can reach white-sand beaches like **Batangas** or the volcanic landscapes of **Taal Lake**.\n",
    "\n",
    "#### 6. **National Museum of Cambodia (Phnom Penh, Cambodia)**\n",
    "\n",
    "* **Academic / Cultural:** Renowned for Khmer art and archaeology, especially Angkorian sculpture and manuscripts.\n",
    "* **Nearby Natural Beauty:** The Mekong River runs through Phnom Penh, and nearby you can find river islands and countryside; **Sihanoukville’s beaches** are about 4–5 hours away.\n",
    "\n",
    "#### 7. **Vietnam National Museum of History (Hanoi, Vietnam)**\n",
    "\n",
    "* **Academic / Cultural:** Extensive collections on Vietnam’s dynastic, colonial, and revolutionary history—great for cultural and political study.\n",
    "* **Nearby Natural Beauty:** Hanoi is a gateway to **Ha Long Bay**, with its limestone cliffs and islands (a UNESCO World Heritage Site).\n",
    "\n",
    "---\n",
    "\n",
    "Do you want me to **prioritize places that would feel most grant-worthy** (i.e., stronger intellectual justification and tie-in to literature/history), or do you want a **broad set of options** so you can choose later based on travel feasibility?\n"
   ]
  },
  {
   "cell_type": "markdown",
   "id": "c6aa3c8f-7033-4035-90b9-e62f2956575f",
   "metadata": {},
   "source": [
    "## Analysis \n",
    "\n",
    "It was interesting to note that several of the answers that Chat GPT-5 provided me with after I reworded my question were the same as from the initial answer, just worded differently. I found that, generally, the LLM was able to provide specific, appropriate answers for the general criteria I was looking for. "
   ]
  },
  {
   "cell_type": "code",
   "execution_count": null,
   "id": "b0698ec5-8b50-411b-9df9-c6fe55105b26",
   "metadata": {},
   "outputs": [],
   "source": []
  }
 ],
 "metadata": {
  "kernelspec": {
   "display_name": "Python 3-12 (COMM4190)",
   "language": "python",
   "name": "python3-12_comm4190"
  },
  "language_info": {
   "codemirror_mode": {
    "name": "ipython",
    "version": 3
   },
   "file_extension": ".py",
   "mimetype": "text/x-python",
   "name": "python",
   "nbconvert_exporter": "python",
   "pygments_lexer": "ipython3",
   "version": "3.12.11"
  }
 },
 "nbformat": 4,
 "nbformat_minor": 5
}
