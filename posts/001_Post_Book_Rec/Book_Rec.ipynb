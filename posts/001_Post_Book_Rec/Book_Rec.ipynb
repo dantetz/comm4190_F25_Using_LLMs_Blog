{
 "cells": [
  {
   "cell_type": "raw",
   "id": "40315e81-bc17-4832-8c47-3007b8e43503",
   "metadata": {},
   "source": [
    "---\n",
    "title: \"Book Reccomendation for Class\"\n",
    "description: \"Asking LLM's for help to decide what book to read for this class\" \n",
    "author: \"Dante\"\n",
    "date: \"9/12/2025\"\n",
    "categories:\n",
    "  - LLMs\n",
    "  - Learning\n",
    "---"
   ]
  },
  {
   "cell_type": "markdown",
   "id": "3572ee28-fbcf-465f-bd8e-bcc1d7f8603b",
   "metadata": {},
   "source": [
    "# Book Reccomendation for Class\n",
    "*Although I have already been assigned the book that I will be using for the \"living with a book\" assignment, I wanted to see what our LLM would produce when asking it about what book I should read*"
   ]
  },
  {
   "cell_type": "markdown",
   "id": "4d56f10c-3928-4218-a872-d5fbba1b70fd",
   "metadata": {},
   "source": [
    "## Prompt\n",
    "I have a semester long project in my class in which I will carry a book around with me the entire time. These are the book options: \n",
    "Buolamwini, Joy (2024). Unmasking AI: My Mission to Protect What Is Human in a World of Machines. Random House.\n",
    "Mollick, Ethan (2024). Co-Intelligence Living and Working with AI. Penguin.\n",
    "Summerfield, Christopher (2025). These Strange New Minds. How AI Learned to Talk and What It Means. Penguin.\n",
    "Bender, Emily & Hanna, Alex (2025). The AI Con. How to Fight Big Tech’s Hype and Create the Future We Want. HarperCollins.\n",
    "Bennett, Max (2023). A Brief History of Intelligence Evolution, AI, and the Five Breakthroughs That Made Our Brains. HarperCollins.\n",
    "Hoffman, Reid & Beato, Greg (2025). Superagency. What Could Possibly Go Right with Our AI Future. Authors Equity.\n",
    "Ananthaswamy, Anil (2024). Why Machines Learn. The Elegant Math Behind Modern AI. Penguin.\n",
    "Which book should I choose?"
   ]
  },
  {
   "cell_type": "markdown",
   "id": "7cad5127-7c27-4432-8aa0-d1c3396c647d",
   "metadata": {},
   "source": [
    "## Prompt Response\n",
    "\n",
    "Good question! Picking a book you’ll carry all semester depends on what you want out of the class: Do you want something more technical, more ethical / policy-oriented, more futuristic, more mathematical, more action / change oriented, etc.? I can walk you through how a few of these differ and which might suit different priorities—and then I can recommend one that seems strong for many students. You can use that plus your own preferences.\n",
    "\n",
    "---\n",
    "\n",
    "Here’s a breakdown of some of the options, strengths & trade-offs:\n",
    "\n",
    "| Book                                                                                                           | What it focuses on / key themes                                                                                                                                                                                                       | What you’ll likely get out of it (benefits)                                                                                                                                                                                                                     | Potential downsides or what it may *not* provide as much of                                                                                                                                                                                  |\n",
    "| -------------------------------------------------------------------------------------------------------------- | ------------------------------------------------------------------------------------------------------------------------------------------------------------------------------------------------------------------------------------- | --------------------------------------------------------------------------------------------------------------------------------------------------------------------------------------------------------------------------------------------------------------- | -------------------------------------------------------------------------------------------------------------------------------------------------------------------------------------------------------------------------------------------- |\n",
    "| **Unmasking AI** by Joy Buolamwini (2024)                                                                      | A mixture of memoir + research; how bias, exclusion, discrimination show up in AI systems (especially vision / facial recognition), “coded gaze”, algorithmic justice, the social & ethical side of AI. ([PenguinRandomhouse.com][1]) | Very compelling if you care about ethics, fairness, social justice, human-rights implications, how people are affected. Good stories, good for framing AI in the real world. Makes ethical questions concrete. Great if you want to push for change or policy.  | Might not go deep into the mathematics or the nuts & bolts of how AI works technically; might be less forward-looking in terms of speculative AI futures or cutting edge breakthroughs. If you want hard tech / math, this may feel lighter. |\n",
    "| **The AI Con: How to Fight Big Tech’s Hype and Create the Future We Want** by Emily Bender & Alex Hanna (2025) | Critiques of hype in AI; demystifies what AI is/what it isn’t; shows how “Big Tech” uses hype; tools for deconstructing narratives; looks at ethical, social, economic, political impact, and power dynamics. ([The Guardian][2])     | Very strong if you want a critical lens; good for debates, policy, media literacy. If part of your project involves thinking about what people believe about AI, or how to push back / shape future AI use, this would give you a lot of material. Also timely. | Might be less inspiring if you want more optimistic / pro-technology vision; might be critical in tone (which you may like, but if you want something more balanced or future-imagining, may feel heavy). Possibly less technical detail.    |\n",
    "\n",
    "---\n",
    "\n",
    "Then there are some of the others that might offer different strengths. (I didn’t find as much detail in my quick search for all of them, so I'll approximate.)\n",
    "\n",
    "* *Co-Intelligence: Living and Working with AI* (Ethan Mollick) – likely more about collaboration human + AI; maybe more about how we integrate AI in real life / organizations.\n",
    "* *These Strange New Minds* (Christopher Summerfield) – sounds like it might explore how AI “learns to talk” and its implications; maybe more cognitive / neuroscientific / psychology aspects.\n",
    "* *Why Machines Learn: The Elegant Math Behind Modern AI* (Anil Ananthaswamy) – more mathematical / technical depth; good if you want to understand models, algorithms, math behind AI.\n",
    "* *Superagency* (Reid Hoffman & Greg Beato) – may lean toward what good futures might look like; more optimistic, imagining possibilities.\n",
    "* *A Brief History of Intelligence, Evolution, AI, and the Five Breakthroughs …* (Max Bennett) – if you like history, evolution of intelligence, deep thinking over time; may offer a broad lens.\n",
    "\n",
    "---\n",
    "\n",
    "**My recommendation**:\n",
    "\n",
    "If I were in your shoes, and wanted a book that balances ethical impact, relevance, good for discussions & projects, and helps me understand both what’s wrong and what to think about going forward, I’d pick **Unmasking AI** by Joy Buolamwini. It gives strong grounding in how the real world is affected — bias, justice, societal harm — but also pushes you to think about what should be done. Plus, it has good narrative elements, which makes it engaging all semester.\n",
    "\n",
    "If instead you are more interested in critiquing current hype, power structures, narratives, etc., then *The AI Con* is also very strong.\n",
    "\n",
    "If you tell me what your project is (theme / angle), or what you care most about (ethics, math, future, social justice, etc.), I can help you pick the *best* for *you*. Do you want me to match to your interests?\n",
    "\n",
    "[1]: https://www.penguinrandomhouse.com/books/670356/unmasking-ai-by-dr-joy-buolamwini/?utm_source=chatgpt.com \"Unmasking AI by Joy Buolamwini\"\n",
    "[2]: https://www.theguardian.com/books/2025/may/19/the-ai-con-by-emily-m-bender-and-alex-hanna-review-debunking-myths-of-the-ai-revolution?utm_source=chatgpt.com \"The AI Con by Emily M Bender and Alex Hanna review - debunking myths of the AI revolution\"\n"
   ]
  },
  {
   "cell_type": "markdown",
   "id": "41a742fe-bacc-4e99-94f3-aa808517c7d1",
   "metadata": {},
   "source": [
    "## Follow Up\n",
    "\n",
    "I would like a book with a pro AI argument. Which book should I choose?"
   ]
  },
  {
   "cell_type": "markdown",
   "id": "1fdbf005-e66f-4736-9518-dec102abdfff",
   "metadata": {},
   "source": [
    "## Second Response\n",
    "\n",
    "If you want a book that makes a **pro-AI** or at least optimistic/pro-AI argument, here are the best picks from your list — and which one I’d pick:\n",
    "\n",
    "---\n",
    "\n",
    "## Strongest “Pro-AI / Optimistic” Options\n",
    "\n",
    "These books argue that AI can bring benefits, enhancements, or positive futures, rather than mostly warning about harms.\n",
    "\n",
    "1. **Superagency** by Reid Hoffman & Greg Beato (2025)\n",
    "\n",
    "   * Very much a positive / forward-looking argument. The authors argue that AI can *increase human agency*, act as a partner & amplifier in work, education, healthcare, etc. ([Superagency][1])\n",
    "   * They call for embracing AI, navigating its risks responsibly, but not letting fear freeze progress. ([TechCrunch][2])\n",
    "\n",
    "2. **Co-Intelligence: Living and Working with AI** by Ethan Mollick (2024)\n",
    "\n",
    "   * This also has a generally positive stance: how humans and AI can collaborate; how using AI well can supercharge thinking & productivity. ([MiddleWeb][3])\n",
    "   * It gives guidance / rules for how to engage with AI in practice (human‐in-the-loop, treating AI like a collaborator, etc.). ([Forbes][4])\n",
    "\n",
    "---\n",
    "\n",
    "## Comparison & Which I'd Pick\n",
    "\n",
    "* **Superagency** is more visionary, big picture, and optimistically ambitious. If you like imagining transformative futures, agency, what’s possible broadly, this is very strong.\n",
    "* **Co-Intelligence** is more practical, about day-to-day work, how people can actually use AI now, what to watch out for, how to adapt. If you want something you can apply sooner, that’s very useful.\n",
    "\n",
    "---\n",
    "\n",
    "## My Recommendation\n",
    "\n",
    "If I were you and wanted a book with a *pro-AI argument*, I’d pick **Superagency** by Reid Hoffman & Greg Beato. It seems to lean more strongly toward an optimistic case, gives you inspiration + arguments for the future, which could be great for class discussions, essays, and imaginative projects.\n",
    "\n",
    "If you want, I can also list some pros and cons of *Superagency* to make sure it aligns with your style / what you’re comfortable defending, so you’re confident with it. Do you want that?\n",
    "\n",
    "[1]: https://www.superagency.ai/?utm_source=chatgpt.com \"Superagency - What Could Possibly Go Right with Our AI Future\"\n",
    "[2]: https://techcrunch.com/2025/01/26/why-reid-hoffman-feels-optimistic-about-our-ai-future/?utm_source=chatgpt.com \"Why Reid Hoffman feels optimistic about our AI future\"\n",
    "[3]: https://www.middleweb.com/50602/what-to-expect-from-ai-in-class-and-beyond/?utm_source=chatgpt.com \"Co-Intelligence: Living and Working with AI\"\n",
    "[4]: https://www.forbes.com/sites/peterhigh/2024/05/07/ethan-mollick-on-the-four-rules-of-co-intelligence-with-ai/?utm_source=chatgpt.com \"Ethan Mollick On The Four Rules Of Co-Intelligence With AI\"\n"
   ]
  },
  {
   "cell_type": "code",
   "execution_count": null,
   "id": "3a3e412a-9719-4d87-a440-058dca4c5a1a",
   "metadata": {},
   "outputs": [],
   "source": []
  }
 ],
 "metadata": {
  "kernelspec": {
   "display_name": "Python 3-12 (COMM4190)",
   "language": "python",
   "name": "python3-12_comm4190"
  },
  "language_info": {
   "codemirror_mode": {
    "name": "ipython",
    "version": 3
   },
   "file_extension": ".py",
   "mimetype": "text/x-python",
   "name": "python",
   "nbconvert_exporter": "python",
   "pygments_lexer": "ipython3",
   "version": "3.12.11"
  }
 },
 "nbformat": 4,
 "nbformat_minor": 5
}
