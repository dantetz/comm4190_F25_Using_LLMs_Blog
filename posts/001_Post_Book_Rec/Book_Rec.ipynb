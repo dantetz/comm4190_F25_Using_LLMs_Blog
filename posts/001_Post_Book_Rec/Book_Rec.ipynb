{
 "cells": [
  {
   "cell_type": "raw",
   "id": "40315e81-bc17-4832-8c47-3007b8e43503",
   "metadata": {},
   "source": [
    "---\n",
    "title: \"Book Reccomendation for Class\"\n",
    "description: \"Asking LLM's for help to decide what book to read for this class\" \n",
    "author: \"Dante\"\n",
    "date: \"9/12/2025\"\n",
    "categories:\n",
    "  - LLMs\n",
    "  - Learning\n",
    "---"
   ]
  },
  {
   "cell_type": "markdown",
   "id": "3572ee28-fbcf-465f-bd8e-bcc1d7f8603b",
   "metadata": {},
   "source": [
    "Although I have already been assigned the book that I will be using for the \"living with "
   ]
  }
 ],
 "metadata": {
  "kernelspec": {
   "display_name": "Python 3-12 (COMM4190)",
   "language": "python",
   "name": "python3-12_comm4190"
  },
  "language_info": {
   "codemirror_mode": {
    "name": "ipython",
    "version": 3
   },
   "file_extension": ".py",
   "mimetype": "text/x-python",
   "name": "python",
   "nbconvert_exporter": "python",
   "pygments_lexer": "ipython3",
   "version": "3.12.11"
  }
 },
 "nbformat": 4,
 "nbformat_minor": 5
}
